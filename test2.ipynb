{
 "cells": [
  {
   "cell_type": "code",
   "execution_count": null,
   "metadata": {},
   "outputs": [],
   "source": [
    "import pandas as pd\n",
    "\n",
    "df=pd.DataFrame({'name': ['carlos', 'diane'], 'color': ['green', 'red']})\n",
    "df"
   ]
  }
 ],
 "metadata": {
  "kernelspec": {
   "display_name": ".venv",
   "language": "python",
   "name": "python3"
  },
  "language_info": {
   "name": "python",
   "version": "3.10.9"
  },
  "orig_nbformat": 4,
  "vscode": {
   "interpreter": {
    "hash": "035973b4855d84bf56bbb571d145d1e79d98aae35f1744f14bbcda3a49f4e9cc"
   }
  }
 },
 "nbformat": 4,
 "nbformat_minor": 2
}
